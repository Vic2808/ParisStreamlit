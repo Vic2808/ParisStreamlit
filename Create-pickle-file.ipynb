{
 "cells": [
  {
   "cell_type": "code",
   "execution_count": 9,
   "id": "bee28f4e",
   "metadata": {},
   "outputs": [],
   "source": [
    "import pandas as pd\n",
    "from sklearn.ensemble import RandomForestClassifier\n",
    "import pickle\n",
    "from sklearn.model_selection import train_test_split\n",
    "from sklearn.metrics import classification_report, accuracy_score, roc_curve, auc\n",
    "from sklearn.metrics import confusion_matrix , accuracy_score\n",
    "import matplotlib.pyplot as plt\n",
    "import seaborn as sns\n",
    "%matplotlib inline"
   ]
  },
  {
   "cell_type": "code",
   "execution_count": 2,
   "id": "6ff4b5d6",
   "metadata": {},
   "outputs": [
    {
     "data": {
      "text/html": [
       "<div>\n",
       "<style scoped>\n",
       "    .dataframe tbody tr th:only-of-type {\n",
       "        vertical-align: middle;\n",
       "    }\n",
       "\n",
       "    .dataframe tbody tr th {\n",
       "        vertical-align: top;\n",
       "    }\n",
       "\n",
       "    .dataframe thead th {\n",
       "        text-align: right;\n",
       "    }\n",
       "</style>\n",
       "<table border=\"1\" class=\"dataframe\">\n",
       "  <thead>\n",
       "    <tr style=\"text-align: right;\">\n",
       "      <th></th>\n",
       "      <th>WRank</th>\n",
       "      <th>LRank</th>\n",
       "      <th>Wsets</th>\n",
       "      <th>elo_winner</th>\n",
       "      <th>elo_loser</th>\n",
       "      <th>proba_elo</th>\n",
       "      <th>Month</th>\n",
       "      <th>Year</th>\n",
       "      <th>Favori_win</th>\n",
       "      <th>PSW_prob</th>\n",
       "      <th>...</th>\n",
       "      <th>Surface_Clay</th>\n",
       "      <th>Surface_Grass</th>\n",
       "      <th>Surface_Hard</th>\n",
       "      <th>Round_2nd Round</th>\n",
       "      <th>Round_3rd Round</th>\n",
       "      <th>Round_4th Round</th>\n",
       "      <th>Round_Quarterfinals</th>\n",
       "      <th>Round_Round Robin</th>\n",
       "      <th>Round_Semifinals</th>\n",
       "      <th>Round_The Final</th>\n",
       "    </tr>\n",
       "  </thead>\n",
       "  <tbody>\n",
       "    <tr>\n",
       "      <th>0</th>\n",
       "      <td>73</td>\n",
       "      <td>103</td>\n",
       "      <td>2.0</td>\n",
       "      <td>1363.825637</td>\n",
       "      <td>1468.054396</td>\n",
       "      <td>0.354346</td>\n",
       "      <td>6</td>\n",
       "      <td>2002</td>\n",
       "      <td>0</td>\n",
       "      <td>0.46</td>\n",
       "      <td>...</td>\n",
       "      <td>0.0</td>\n",
       "      <td>1.0</td>\n",
       "      <td>0.0</td>\n",
       "      <td>0.0</td>\n",
       "      <td>0.0</td>\n",
       "      <td>0.0</td>\n",
       "      <td>0.0</td>\n",
       "      <td>0.0</td>\n",
       "      <td>0.0</td>\n",
       "      <td>0.0</td>\n",
       "    </tr>\n",
       "    <tr>\n",
       "      <th>1</th>\n",
       "      <td>98</td>\n",
       "      <td>176</td>\n",
       "      <td>2.0</td>\n",
       "      <td>1476.562944</td>\n",
       "      <td>1364.442466</td>\n",
       "      <td>0.655977</td>\n",
       "      <td>6</td>\n",
       "      <td>2002</td>\n",
       "      <td>1</td>\n",
       "      <td>0.59</td>\n",
       "      <td>...</td>\n",
       "      <td>0.0</td>\n",
       "      <td>1.0</td>\n",
       "      <td>0.0</td>\n",
       "      <td>0.0</td>\n",
       "      <td>0.0</td>\n",
       "      <td>0.0</td>\n",
       "      <td>0.0</td>\n",
       "      <td>0.0</td>\n",
       "      <td>0.0</td>\n",
       "      <td>0.0</td>\n",
       "    </tr>\n",
       "  </tbody>\n",
       "</table>\n",
       "<p>2 rows × 24 columns</p>\n",
       "</div>"
      ],
      "text/plain": [
       "   WRank  LRank  Wsets   elo_winner    elo_loser  proba_elo  Month  Year  \\\n",
       "0     73    103    2.0  1363.825637  1468.054396   0.354346      6  2002   \n",
       "1     98    176    2.0  1476.562944  1364.442466   0.655977      6  2002   \n",
       "\n",
       "   Favori_win  PSW_prob  ...  Surface_Clay  Surface_Grass  Surface_Hard  \\\n",
       "0           0      0.46  ...           0.0            1.0           0.0   \n",
       "1           1      0.59  ...           0.0            1.0           0.0   \n",
       "\n",
       "   Round_2nd Round  Round_3rd Round  Round_4th Round  Round_Quarterfinals  \\\n",
       "0              0.0              0.0              0.0                  0.0   \n",
       "1              0.0              0.0              0.0                  0.0   \n",
       "\n",
       "   Round_Round Robin  Round_Semifinals  Round_The Final  \n",
       "0                0.0               0.0              0.0  \n",
       "1                0.0               0.0              0.0  \n",
       "\n",
       "[2 rows x 24 columns]"
      ]
     },
     "execution_count": 2,
     "metadata": {},
     "output_type": "execute_result"
    }
   ],
   "source": [
    "atp1 = pd.read_csv(\"atp_clean.csv\")\n",
    "atp1.head(2)"
   ]
  },
  {
   "cell_type": "code",
   "execution_count": 10,
   "id": "ce94e8d8",
   "metadata": {},
   "outputs": [
    {
     "name": "stdout",
     "output_type": "stream",
     "text": [
      "Score sur ensemble train 0.9275094122902175\n",
      "Score sur ensemble test 0.928662582950485\n",
      "              precision    recall  f1-score   support\n",
      "\n",
      "           0       0.95      0.83      0.89      2596\n",
      "           1       0.92      0.98      0.95      5240\n",
      "\n",
      "    accuracy                           0.93      7836\n",
      "   macro avg       0.93      0.90      0.92      7836\n",
      "weighted avg       0.93      0.93      0.93      7836\n",
      "\n"
     ]
    },
    {
     "data": {
      "image/png": "[encoded data removed]",
      "text/plain": [
       "<Figure size 640x480 with 2 Axes>"
      ]
     },
     "metadata": {},
     "output_type": "display_data"
    }
   ],
   "source": [
    "# Réduction du nombre de variables\n",
    "var_new = ['Favori_win','WRank', 'elo_loser', 'elo_winner', 'LRank']\n",
    "atp_new = atp1[var_new]\n",
    "\n",
    "# RandomForestClassifier sur les 4 variables et parametrage du modèle\n",
    "X = atp_new.drop(['Favori_win'] , axis=1)\n",
    "y = atp_new['Favori_win']\n",
    "\n",
    "X_train, X_test, y_train, y_test = train_test_split(X, y, test_size=0.2, shuffle=False)\n",
    "\n",
    "model_RF4V = RandomForestClassifier(n_estimators=30, max_depth=3, random_state = 42)\n",
    "model_RF4V.fit(X_train, y_train)\n",
    "print('Score sur ensemble train', model_RF4V.score(X_train, y_train))\n",
    "print('Score sur ensemble test', model_RF4V.score(X_test, y_test))\n",
    "\n",
    "y_pred = model_RF4V.predict(X_test)\n",
    "\n",
    "print(classification_report(y_test, y_pred))\n",
    "\n",
    "cf_matrix = confusion_matrix(y_test, y_pred)\n",
    "sns.heatmap(cf_matrix, annot=True, fmt='g', cmap = 'YlOrRd')\n",
    "plt.title(\"Confusion Matrix\")\n",
    "plt.xlabel(\"Réalité\")\n",
    "plt.ylabel(\"Prédiction\")\n",
    "plt.savefig('Confusion_Matrix_RFC.png', bbox_inches=\"tight\")"
   ]
  },
  {
   "cell_type": "code",
   "execution_count": 13,
   "id": "f29134b7",
   "metadata": {},
   "outputs": [],
   "source": [
    "pickle_out = open(\"rf_model.pkl\",\"wb\")\n",
    "pickle.dump(model_RF4V, pickle_out)\n",
    "pickle_out.close()"
   ]
  }
 ],
 "metadata": {
  "kernelspec": {
   "display_name": "Python 3 (ipykernel)",
   "language": "python",
   "name": "python3"
  },
  "language_info": {
   "codemirror_mode": {
    "name": "ipython",
    "version": 3
   },
   "file_extension": ".py",
   "mimetype": "text/x-python",
   "name": "python",
   "nbconvert_exporter": "python",
   "pygments_lexer": "ipython3",
   "version": "3.11.4"
  },
  "toc": {
   "base_numbering": 1,
   "nav_menu": {},
   "number_sections": true,
   "sideBar": true,
   "skip_h1_title": false,
   "title_cell": "Table of Contents",
   "title_sidebar": "Contents",
   "toc_cell": false,
   "toc_position": {},
   "toc_section_display": true,
   "toc_window_display": false
  }
 },
 "nbformat": 4,
 "nbformat_minor": 5
}
